{
 "cells": [
  {
   "cell_type": "markdown",
   "id": "524a41e1-8dcd-43da-b15b-8f61752638c3",
   "metadata": {},
   "source": [
    "# Homework 3\n",
    "\n",
    "## Problem 1\n",
    "\n",
    "(A) The neural net makes fewer total mistakes (8) than the new algorithm (12).\n",
    "\n",
    "(B) However, the new algorithm only mistakenly identified a bird as a person once, whereas the neural net made this mistake three times. Since this is the most costly kind of error for the zoo, this means that the new algorithm is a better fit for this application.\n",
    "\n",
    "(C) Over a period of 990 bird events and 10 people events, if the misidentification rates remained similar to as before, then the new truth tables would be something like as follows. Note that the new algorithm now makes fewer _total_ misidentifications as well."
   ]
  },
  {
   "cell_type": "code",
   "execution_count": 7,
   "id": "68a29f33-96bd-48be-b6e9-8c042d443528",
   "metadata": {},
   "outputs": [
    {
     "data": {
      "text/html": [
       "<div>\n",
       "<style scoped>\n",
       "    .dataframe tbody tr th:only-of-type {\n",
       "        vertical-align: middle;\n",
       "    }\n",
       "\n",
       "    .dataframe tbody tr th {\n",
       "        vertical-align: top;\n",
       "    }\n",
       "\n",
       "    .dataframe thead th {\n",
       "        text-align: right;\n",
       "    }\n",
       "</style>\n",
       "<table border=\"1\" class=\"dataframe\">\n",
       "  <thead>\n",
       "    <tr style=\"text-align: right;\">\n",
       "      <th></th>\n",
       "      <th>True Bird</th>\n",
       "      <th>True Person</th>\n",
       "    </tr>\n",
       "  </thead>\n",
       "  <tbody>\n",
       "    <tr>\n",
       "      <th>NN Bird</th>\n",
       "      <td>925</td>\n",
       "      <td>1</td>\n",
       "    </tr>\n",
       "    <tr>\n",
       "      <th>NN Person</th>\n",
       "      <td>65</td>\n",
       "      <td>9</td>\n",
       "    </tr>\n",
       "  </tbody>\n",
       "</table>\n",
       "</div>"
      ],
      "text/plain": [
       "           True Bird  True Person\n",
       "NN Bird          925            1\n",
       "NN Person         65            9"
      ]
     },
     "execution_count": 7,
     "metadata": {},
     "output_type": "execute_result"
    }
   ],
   "source": [
    "import pandas as pd\n",
    "pd.DataFrame(\n",
    "    [[925, 1],\n",
    "     [65, 9]],\n",
    "    [\"NN Bird\", \"NN Person\"],\n",
    "    [\"True Bird\", \"True Person\"]\n",
    ")"
   ]
  },
  {
   "cell_type": "code",
   "execution_count": 8,
   "id": "f1f79588-a2bc-40f6-9691-98666e33748d",
   "metadata": {},
   "outputs": [
    {
     "data": {
      "text/html": [
       "<div>\n",
       "<style scoped>\n",
       "    .dataframe tbody tr th:only-of-type {\n",
       "        vertical-align: middle;\n",
       "    }\n",
       "\n",
       "    .dataframe tbody tr th {\n",
       "        vertical-align: top;\n",
       "    }\n",
       "\n",
       "    .dataframe thead th {\n",
       "        text-align: right;\n",
       "    }\n",
       "</style>\n",
       "<table border=\"1\" class=\"dataframe\">\n",
       "  <thead>\n",
       "    <tr style=\"text-align: right;\">\n",
       "      <th></th>\n",
       "      <th>True Bird</th>\n",
       "      <th>True Person</th>\n",
       "    </tr>\n",
       "  </thead>\n",
       "  <tbody>\n",
       "    <tr>\n",
       "      <th>NA Bird</th>\n",
       "      <td>968</td>\n",
       "      <td>2</td>\n",
       "    </tr>\n",
       "    <tr>\n",
       "      <th>NA Person</th>\n",
       "      <td>22</td>\n",
       "      <td>8</td>\n",
       "    </tr>\n",
       "  </tbody>\n",
       "</table>\n",
       "</div>"
      ],
      "text/plain": [
       "           True Bird  True Person\n",
       "NA Bird          968            2\n",
       "NA Person         22            8"
      ]
     },
     "execution_count": 8,
     "metadata": {},
     "output_type": "execute_result"
    }
   ],
   "source": [
    "pd.DataFrame(\n",
    "    [[968, 2],\n",
    "     [22, 8]],\n",
    "    [\"NA Bird\", \"NA Person\"],\n",
    "    [\"True Bird\", \"True Person\"]\n",
    ")"
   ]
  },
  {
   "cell_type": "markdown",
   "id": "f3841bfb-0501-414b-a433-e29156ae2060",
   "metadata": {},
   "source": [
    "## Problem 2\n",
    "\n",
    "(A) The sum of $k$ identical exponentially distributed variables is Erlang distributed with shape parameter $k$.\n",
    "\n",
    "(B) The ratio of two standard normally distributed variables is Cauchy distributed with location 0 and scale 1.\n",
    "\n",
    "(C) We want to know the distribution of $\\sqrt{X^2 + Y^2}$. In general this could be very messy, however if the distributions of $X$ and $Y$ are both identical, zero-mean Gaussians, then the amplitude will be Rayleigh distributed. More generally, if the distributions are iden tical but do _not_ have mean zero, then there is no known closed form expression for the norm of the vector, but the norm-squared $X^2 + Y^2$ obeys the noncentral chi-squared distribution."
   ]
  }
 ],
 "metadata": {
  "kernelspec": {
   "display_name": "Python 3 (ipykernel)",
   "language": "python",
   "name": "python3"
  },
  "language_info": {
   "codemirror_mode": {
    "name": "ipython",
    "version": 3
   },
   "file_extension": ".py",
   "mimetype": "text/x-python",
   "name": "python",
   "nbconvert_exporter": "python",
   "pygments_lexer": "ipython3",
   "version": "3.9.7"
  }
 },
 "nbformat": 4,
 "nbformat_minor": 5
}
